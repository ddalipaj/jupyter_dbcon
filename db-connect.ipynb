{
 "cells": [
  {
   "cell_type": "code",
   "execution_count": 8,
   "metadata": {
    "collapsed": false
   },
   "outputs": [
    {
     "data": {
      "text/plain": [
       "10L"
      ]
     },
     "execution_count": 8,
     "metadata": {},
     "output_type": "execute_result"
    }
   ],
   "source": [
    "import MySQLdb\n",
    "\n",
    "db = MySQLdb.connect(user=\"root\",\n",
    "                    passwd=\"\",\n",
    "                    host=\"localhost\",\n",
    "                    port=3306,\n",
    "                    use_unicode=True)\n",
    "\n",
    "cursor = db.cursor()\n",
    "cursor.execute(\"SELECT * FROM reviews.issues LIMIT 10\")"
   ]
  },
  {
   "cell_type": "code",
   "execution_count": 9,
   "metadata": {
    "collapsed": false
   },
   "outputs": [
    {
     "data": {
      "text/plain": [
       "((1L,\n",
       "  1L,\n",
       "  u'148509',\n",
       "  u'review',\n",
       "  u'Consolidate the APIs for getting consoles',\n",
       "  u'',\n",
       "  u'MERGED',\n",
       "  u'None',\n",
       "  u'None',\n",
       "  1L,\n",
       "  datetime.datetime(2015, 1, 20, 12, 54, 22),\n",
       "  0L),\n",
       " (2L,\n",
       "  1L,\n",
       "  u'170089',\n",
       "  u'review',\n",
       "  u'Support both list and dict for pci_passthrough_whitelist',\n",
       "  u'',\n",
       "  u'MERGED',\n",
       "  u'None',\n",
       "  u'None',\n",
       "  20L,\n",
       "  datetime.datetime(2015, 4, 2, 13, 41, 34),\n",
       "  0L),\n",
       " (3L,\n",
       "  1L,\n",
       "  u'175780',\n",
       "  u'review',\n",
       "  u'libvirt: make live_migration_uri flag dependent on virt_type',\n",
       "  u'',\n",
       "  u'NEW',\n",
       "  u'None',\n",
       "  u'None',\n",
       "  29L,\n",
       "  datetime.datetime(2015, 4, 21, 11, 5, 11),\n",
       "  0L),\n",
       " (4L,\n",
       "  1L,\n",
       "  u'165060',\n",
       "  u'review',\n",
       "  u'VMware: add in folder support on VC',\n",
       "  u'',\n",
       "  u'NEW',\n",
       "  u'None',\n",
       "  u'None',\n",
       "  30L,\n",
       "  datetime.datetime(2015, 3, 17, 14, 7, 30),\n",
       "  0L),\n",
       " (5L,\n",
       "  1L,\n",
       "  u'174064',\n",
       "  u'review',\n",
       "  u'Add min/max of API microversions to version API',\n",
       "  u'',\n",
       "  u'MERGED',\n",
       "  u'None',\n",
       "  u'None',\n",
       "  33L,\n",
       "  datetime.datetime(2015, 4, 15, 21, 56, 40),\n",
       "  0L),\n",
       " (6L,\n",
       "  1L,\n",
       "  u'175786',\n",
       "  u'review',\n",
       "  u'Use list of requests in InstancePCIRequests.obj_from_db.',\n",
       "  u'',\n",
       "  u'MERGED',\n",
       "  u'None',\n",
       "  u'None',\n",
       "  18L,\n",
       "  datetime.datetime(2015, 4, 21, 11, 32, 42),\n",
       "  0L),\n",
       " (7L,\n",
       "  1L,\n",
       "  u'173304',\n",
       "  u'review',\n",
       "  u'scheduler: weight nodes based on their cached images',\n",
       "  u'',\n",
       "  u'NEW',\n",
       "  u'None',\n",
       "  u'None',\n",
       "  29L,\n",
       "  datetime.datetime(2015, 4, 14, 15, 12, 10),\n",
       "  0L),\n",
       " (8L,\n",
       "  1L,\n",
       "  u'175789',\n",
       "  u'review',\n",
       "  u'Fix handling of pci_requests in consume_from_instance.',\n",
       "  u'',\n",
       "  u'MERGED',\n",
       "  u'None',\n",
       "  u'None',\n",
       "  26L,\n",
       "  datetime.datetime(2015, 4, 21, 11, 50, 59),\n",
       "  0L),\n",
       " (9L,\n",
       "  1L,\n",
       "  u'174605',\n",
       "  u'review',\n",
       "  u'Use kwargs from compute v4 proxy change_instance_metadata',\n",
       "  u'',\n",
       "  u'MERGED',\n",
       "  u'None',\n",
       "  u'None',\n",
       "  31L,\n",
       "  datetime.datetime(2015, 4, 16, 23, 13, 3),\n",
       "  0L),\n",
       " (10L,\n",
       "  1L,\n",
       "  u'174477',\n",
       "  u'review',\n",
       "  u'compute: stop handling virt lifecycle events in cleanup_host()',\n",
       "  u'',\n",
       "  u'MERGED',\n",
       "  u'None',\n",
       "  u'None',\n",
       "  31L,\n",
       "  datetime.datetime(2015, 4, 16, 19, 32, 53),\n",
       "  0L))"
      ]
     },
     "execution_count": 9,
     "metadata": {},
     "output_type": "execute_result"
    }
   ],
   "source": [
    "cursor.fetchall()"
   ]
  },
  {
   "cell_type": "code",
   "execution_count": 10,
   "metadata": {
    "collapsed": false
   },
   "outputs": [
    {
     "data": {
      "text/plain": [
       "10L"
      ]
     },
     "execution_count": 10,
     "metadata": {},
     "output_type": "execute_result"
    }
   ],
   "source": [
    "cursor.execute(\"\"\"SELECT count(reviews.changes.new_value), reviews.issues.issue, reviews.changes.issue_id \n",
    "               FROM reviews.changes \n",
    "               INNER JOIN reviews.issues \n",
    "               ON reviews.changes.issue_id=reviews.issues.id \n",
    "               GROUP BY reviews.changes.issue_id\n",
    "               LIMIT 10\"\"\")"
   ]
  },
  {
   "cell_type": "code",
   "execution_count": 11,
   "metadata": {
    "collapsed": false
   },
   "outputs": [
    {
     "data": {
      "text/plain": [
       "((192L, u'148509', 1L),\n",
       " (27L, u'170089', 2L),\n",
       " (109L, u'175780', 3L),\n",
       " (145L, u'165060', 4L),\n",
       " (9L, u'174064', 5L),\n",
       " (12L, u'175786', 6L),\n",
       " (158L, u'173304', 7L),\n",
       " (10L, u'175789', 8L),\n",
       " (9L, u'174605', 9L),\n",
       " (10L, u'174477', 10L))"
      ]
     },
     "execution_count": 11,
     "metadata": {},
     "output_type": "execute_result"
    }
   ],
   "source": [
    "cursor.fetchall()"
   ]
  }
 ],
 "metadata": {
  "kernelspec": {
   "display_name": "Python 2",
   "language": "python",
   "name": "python2"
  },
  "language_info": {
   "codemirror_mode": {
    "name": "ipython",
    "version": 2
   },
   "file_extension": ".py",
   "mimetype": "text/x-python",
   "name": "python",
   "nbconvert_exporter": "python",
   "pygments_lexer": "ipython2",
   "version": "2.7.9"
  }
 },
 "nbformat": 4,
 "nbformat_minor": 0
}
